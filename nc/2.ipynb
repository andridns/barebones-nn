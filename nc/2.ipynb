{
 "cells": [
  {
   "cell_type": "code",
   "execution_count": null,
   "metadata": {},
   "outputs": [],
   "source": []
  },
  {
   "cell_type": "code",
   "execution_count": null,
   "metadata": {},
   "outputs": [],
   "source": [
    "import numpy as np\n",
    "import tqdm\n",
    "from layers import model_forward, model_backward\n",
    "from utils import predict, global_param_init, update_params, plot, log_csv\n",
    "from metrics import cat_xentropy_loss\n",
    "\n",
    "def feedforward_neuralnet(X_train, y_train, X_test, y_test, layer_dims,\n",
    "                          activation='relu', weight_init='glorot_uniform',\n",
    "                          dropout_rate=None, learning_rate=0.001, num_steps=3000, \n",
    "                          early_stopping=True):\n",
    "    \"\"\"Build, train and evaluate feed-forward neural network model.\n",
    "    \n",
    "    Args:\n",
    "        X_train: training input matrix of size [None, n_features]\n",
    "        X_test: testing input matrix of size [None, n_features]\n",
    "        y_train (int): training label vector of size [None,]\n",
    "        y_test (int): testing label vector of size [None,]\n",
    "        layer_dims: list containing number of input, hidden and output neurons in sequence\n",
    "        activation (str): activation function for hidden layers\n",
    "        weight_init (str): weight initialization method\n",
    "        dropout_rate: probability of randomly setting activations to zero\n",
    "        learning_rate: learning rate for gradient descent update rule\n",
    "        num_steps: number of optimization iteration (epoch)\n",
    "    \n",
    "    Returns:\n",
    "        model: dictionary containing these information as key value pairs:\n",
    "            model['params'] = dictionary of model weights (W) and biases (b) in all layers\n",
    "            model['losses'] = recorded loss array during training\n",
    "            model['accuracy'] = recorded accuracy array during training\n",
    "            model['layer_dims'] = list containing number of input, hidden and output neurons\n",
    "            model['activation'] = activation function for hidden layers\n",
    "            model['weight_init'] = weight initialization method\n",
    "            model['dropout_rate'] = probability of randomly setting activations to zero\n",
    "            model['learning_rate'] = learning rate for gradient descent update rule\n",
    "            model['best_epoch'] = epoch number at highest achieved accuracy\n",
    "    \"\"\"\n",
    "    model = {} # model will be returned as dictionary\n",
    "    losses = [] # initialize loss array\n",
    "    train_accs = [] # initialize training accuracy array\n",
    "    val_accs = [] # initialize validation accuracy array\n",
    "    params = global_param_init(layer_dims, weight_init) # initialize weights\n",
    "    t = tqdm.trange(num_steps) # tqdm object\n",
    "    best_epoch = num_steps # initialize best epoch value\n",
    "\n",
    "    # Training loop\n",
    "    for i in t:\n",
    "        probs, caches = model_forward(X_train, params, activation, dropout_rate) # forward propagation\n",
    "        loss = cat_xentropy_loss(probs, y_train) # calculate loss\n",
    "        grads = model_backward(probs, y_train, caches, activation, dropout_rate) # error backpropagation\n",
    "        params = update_params(params, grads, learning_rate) # weight updates\n",
    "        train_acc = predict(X_train, y_train, params, activation) # training accuracy\n",
    "        val_acc = predict(X_test, y_test, params, activation) # testing accuracy\n",
    "        t.set_postfix(loss=float(loss), train_acc=train_acc, val_acc=val_acc) # tqdm printing\n",
    "        losses.append(loss)\n",
    "        train_accs.append(train_acc)\n",
    "        val_accs.append(val_acc)\n",
    "        # Record training logs\n",
    "        if early_stopping and val_acc > 0.99:\n",
    "            best_epoch = i\n",
    "            print()\n",
    "            print('Early Stopping at Epoch: {}'.format(i))      \n",
    "            break # stop training if maximum accuracy is achieved\n",
    "    print('Training Finished')\n",
    "    print('Training Accuracy Score: {:.2f}%'.format(train_acc*100))\n",
    "    print('Validation Accuracy Score: {:.2f}%'.format(val_acc*100))\n",
    "    \n",
    "    # Record training log as pandas dataframe then save as CSV\n",
    "    log_csv(losses, train_accs, val_accs)\n",
    "\n",
    "    # Plot loss and accuracy curve\n",
    "    plot(losses, val_accs, learning_rate)\n",
    "    \n",
    "    # Update model values\n",
    "    model['params'] = params\n",
    "    model['losses'] = np.array(losses)\n",
    "    model['training_accuracy'] = np.array(train_accs)\n",
    "    model['validation_accuracy'] = np.array(val_accs)\n",
    "    model['layer_dims'] = np.array(layer_dims)\n",
    "    model['activation'] = activation\n",
    "    model['weight_init'] = weight_init\n",
    "    model['dropout_rate'] = float(dropout_rate) if dropout_rate else 0.0\n",
    "    model['learning_rate'] = float(learning_rate)\n",
    "    model['best_epoch'] = int(best_epoch)\n",
    "\n",
    "    return model\n"
   ]
  },
  {
   "cell_type": "code",
   "execution_count": null,
   "metadata": {},
   "outputs": [],
   "source": []
  },
  {
   "cell_type": "code",
   "execution_count": null,
   "metadata": {},
   "outputs": [],
   "source": []
  },
  {
   "cell_type": "code",
   "execution_count": 1,
   "metadata": {},
   "outputs": [],
   "source": [
    "import numpy as np\n",
    "import tqdm\n",
    "from layers import model_forward, model_backward\n",
    "from utils import predict, global_param_init, update_params, plot, log_csv\n",
    "from metrics import cat_xentropy_loss\n",
    "from preprocessing import train_test_split\n",
    "from sklearn import datasets\n",
    "\n",
    "iris = datasets.load_iris()\n",
    "X, y = iris.data, iris.target\n",
    "X_train, X_test, y_train, y_test = train_test_split(X, y, test_size=0.20)\n",
    "layer_dims = [4, 32, 64, 3]"
   ]
  },
  {
   "cell_type": "code",
   "execution_count": 31,
   "metadata": {},
   "outputs": [],
   "source": [
    "def initialize_model(**kwargs):\n",
    "    for k,v in kwargs.items():\n",
    "        if type(v) == str:\n",
    "            model[k] = v.lower()\n",
    "        else:\n",
    "            model[k] = v\n",
    "    return model"
   ]
  },
  {
   "cell_type": "code",
   "execution_count": 32,
   "metadata": {},
   "outputs": [],
   "source": [
    "model = {}\n",
    "model = initialize_model(layer_dims=layer_dims,\n",
    "                          activation='RELU', weight_init='GLOROT_UNiform',\n",
    "                          dropout_rate=None, learning_rate=0.001, num_steps=3000, \n",
    "                          early_stopping=True)"
   ]
  },
  {
   "cell_type": "code",
   "execution_count": 33,
   "metadata": {},
   "outputs": [
    {
     "data": {
      "text/plain": [
       "{'layer_dims': [4, 32, 64, 3],\n",
       " 'activation': 'relu',\n",
       " 'weight_init': 'glorot_uniform',\n",
       " 'dropout_rate': None,\n",
       " 'learning_rate': 0.001,\n",
       " 'num_steps': 3000,\n",
       " 'early_stopping': True}"
      ]
     },
     "execution_count": 33,
     "metadata": {},
     "output_type": "execute_result"
    }
   ],
   "source": [
    "model"
   ]
  },
  {
   "cell_type": "code",
   "execution_count": null,
   "metadata": {},
   "outputs": [],
   "source": []
  },
  {
   "cell_type": "code",
   "execution_count": 6,
   "metadata": {},
   "outputs": [
    {
     "ename": "TypeError",
     "evalue": "relu_backward() missing 2 required positional arguments: 'dA' and 'cache'",
     "output_type": "error",
     "traceback": [
      "\u001b[0;31m---------------------------------------------------------------------------\u001b[0m",
      "\u001b[0;31mTypeError\u001b[0m                                 Traceback (most recent call last)",
      "\u001b[0;32m<ipython-input-6-deefba63781d>\u001b[0m in \u001b[0;36m<module>\u001b[0;34m()\u001b[0m\n\u001b[1;32m      1\u001b[0m \u001b[0;32mimport\u001b[0m \u001b[0mlayers\u001b[0m\u001b[0;34m\u001b[0m\u001b[0m\n\u001b[1;32m      2\u001b[0m \u001b[0mactivation\u001b[0m \u001b[0;34m=\u001b[0m \u001b[0;34m'relu'\u001b[0m\u001b[0;34m\u001b[0m\u001b[0m\n\u001b[0;32m----> 3\u001b[0;31m \u001b[0mgetattr\u001b[0m\u001b[0;34m(\u001b[0m\u001b[0mlayers\u001b[0m\u001b[0;34m,\u001b[0m \u001b[0;34mf'{activation}_backward'\u001b[0m\u001b[0;34m)\u001b[0m\u001b[0;34m(\u001b[0m\u001b[0;34m)\u001b[0m\u001b[0;34m\u001b[0m\u001b[0m\n\u001b[0m",
      "\u001b[0;31mTypeError\u001b[0m: relu_backward() missing 2 required positional arguments: 'dA' and 'cache'"
     ]
    }
   ],
   "source": [
    "import layers\n",
    "activation = 'relu'\n",
    "getattr(layers, f'{activation}_backward')()"
   ]
  },
  {
   "cell_type": "code",
   "execution_count": null,
   "metadata": {},
   "outputs": [],
   "source": [
    "def train(model, X_train, X_test, y_train, y_test, num_steps):\n",
    "    losses = [] # initialize loss array\n",
    "    train_accs = [] # initialize training accuracy array\n",
    "    val_accs = [] # initialize validation accuracy array\n",
    "    t = tqdm.trange(num_steps) # tqdm object\n",
    "    best_epoch = num_steps # initialize best epoch value\n",
    "    # Training loop\n",
    "    for i in t:\n",
    "        probs, caches = model_forward(X_train, params, activation, dropout_rate) # forward propagation\n",
    "        loss = cat_xentropy_loss(probs, y_train) # calculate loss\n",
    "        grads = model_backward(probs, y_train, caches, activation, dropout_rate) # error backpropagation\n",
    "        params = update_params(params, grads, learning_rate) # weight updates\n",
    "        train_acc = predict(X_train, y_train, params, activation) # training accuracy\n",
    "        val_acc = predict(X_test, y_test, params, activation) # testing accuracy\n",
    "        t.set_postfix(loss=float(loss), train_acc=train_acc, val_acc=val_acc) # tqdm printing\n",
    "        losses.append(loss)\n",
    "        train_accs.append(train_acc)\n",
    "        val_accs.append(val_acc)\n",
    "        # Record training logs\n",
    "        if early_stopping and val_acc > 0.99:\n",
    "            best_epoch = i\n",
    "            print()\n",
    "            print('Early Stopping at Epoch: {}'.format(i))      \n",
    "            break # stop training if maximum accuracy is achieved\n",
    "    print('Training Finished')\n",
    "    print('Training Accuracy Score: {:.2f}%'.format(train_acc*100))\n",
    "    print('Validation Accuracy Score: {:.2f}%'.format(val_acc*100))"
   ]
  },
  {
   "cell_type": "code",
   "execution_count": null,
   "metadata": {},
   "outputs": [],
   "source": [
    "def train(model):\n",
    "    a = model['lol'] if 'lol' in model else 42\n",
    "    print(model['activation'])\n",
    "    print(a)"
   ]
  },
  {
   "cell_type": "code",
   "execution_count": null,
   "metadata": {},
   "outputs": [],
   "source": [
    "layer_dims = [4, 32, 64, 3]"
   ]
  },
  {
   "cell_type": "code",
   "execution_count": null,
   "metadata": {},
   "outputs": [],
   "source": [
    "model = {}\n",
    "model = initialize_model(layer_dims=layer_dims,\n",
    "                          activation='relu', weight_init='glorot_uniform',\n",
    "                          dropout_rate=None, learning_rate=0.001, num_steps=3000, \n",
    "                          early_stopping=True, lol=1000)\n",
    "train(model)"
   ]
  },
  {
   "cell_type": "code",
   "execution_count": null,
   "metadata": {},
   "outputs": [],
   "source": [
    "model"
   ]
  },
  {
   "cell_type": "code",
   "execution_count": null,
   "metadata": {},
   "outputs": [],
   "source": [
    "'layer_dims' in model"
   ]
  },
  {
   "cell_type": "code",
   "execution_count": null,
   "metadata": {},
   "outputs": [],
   "source": []
  },
  {
   "cell_type": "code",
   "execution_count": null,
   "metadata": {},
   "outputs": [],
   "source": []
  },
  {
   "cell_type": "code",
   "execution_count": null,
   "metadata": {},
   "outputs": [],
   "source": []
  },
  {
   "cell_type": "code",
   "execution_count": null,
   "metadata": {},
   "outputs": [],
   "source": [
    "train(model)"
   ]
  },
  {
   "cell_type": "code",
   "execution_count": null,
   "metadata": {},
   "outputs": [],
   "source": []
  },
  {
   "cell_type": "code",
   "execution_count": null,
   "metadata": {},
   "outputs": [],
   "source": [
    "model"
   ]
  },
  {
   "cell_type": "code",
   "execution_count": null,
   "metadata": {},
   "outputs": [],
   "source": []
  },
  {
   "cell_type": "code",
   "execution_count": null,
   "metadata": {},
   "outputs": [],
   "source": [
    "model['params'] = global_param_init(layer_dims, weight_init)"
   ]
  }
 ],
 "metadata": {
  "kernelspec": {
   "display_name": "Python 3",
   "language": "python",
   "name": "python3"
  },
  "language_info": {
   "codemirror_mode": {
    "name": "ipython",
    "version": 3
   },
   "file_extension": ".py",
   "mimetype": "text/x-python",
   "name": "python",
   "nbconvert_exporter": "python",
   "pygments_lexer": "ipython3",
   "version": "3.6.5"
  }
 },
 "nbformat": 4,
 "nbformat_minor": 2
}
