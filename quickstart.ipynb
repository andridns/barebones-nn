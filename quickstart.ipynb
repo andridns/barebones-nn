{
 "cells": [
  {
   "cell_type": "markdown",
   "metadata": {},
   "source": [
    "## **___TL;DR Version (Short Demo)___**"
   ]
  },
  {
   "cell_type": "code",
   "execution_count": 1,
   "metadata": {},
   "outputs": [],
   "source": [
    "from sklearn import datasets # iris dataset\n",
    "from model import feedforward_neuralnet # model.py\n",
    "from preprocessing import standard_scaler, train_test_split # utils.py\n",
    "%matplotlib inline\n",
    "%load_ext autoreload\n",
    "%autoreload 2"
   ]
  },
  {
   "cell_type": "code",
   "execution_count": 2,
   "metadata": {},
   "outputs": [],
   "source": [
    "# Preprocessing & Train-test Split\n",
    "iris = datasets.load_iris() # download Iris dataset\n",
    "X, y = iris.data, iris.target # assign inputs and labels\n",
    "X = standard_scaler(X) # scale features in X to unit gaussian\n",
    "X_train, X_test, y_train, y_test = train_test_split(X, y, test_size=0.20, random_state=10) # train-test split"
   ]
  },
  {
   "cell_type": "code",
   "execution_count": 3,
   "metadata": {},
   "outputs": [
    {
     "name": "stderr",
     "output_type": "stream",
     "text": [
      " 76%|███████▌  | 7555/10000 [00:45<00:14, 165.11it/s, loss=0.0393, train_acc=0.992, val_acc=1]"
     ]
    },
    {
     "name": "stdout",
     "output_type": "stream",
     "text": [
      "\n",
      "Early Stopping at Epoch: 7567\n",
      "Training Finished\n",
      "Training Accuracy Score: 99.17%\n",
      "Validation Accuracy Score: 100.00%\n",
      "Training Logs are saved as a CSV file.\n",
      "Training Curves are saved as a PNG file.\n"
     ]
    },
    {
     "data": {
      "image/png": "[encoded data removed]",
      "text/plain": [
       "<Figure size 864x288 with 2 Axes>"
      ]
     },
     "metadata": {},
     "output_type": "display_data"
    },
    {
     "name": "stderr",
     "output_type": "stream",
     "text": [
      " 76%|███████▌  | 7555/10000 [01:00<00:19, 125.91it/s, loss=0.0393, train_acc=0.992, val_acc=1]"
     ]
    }
   ],
   "source": [
    "# model configuration\n",
    "model_a_configs = {'X_train':X_train,\n",
    "                   'y_train':y_train,\n",
    "                   'X_test':X_test,\n",
    "                   'y_test':y_test,\n",
    "                   'layer_dims':[4, 64, 64, 3], # layer dimensions\n",
    "                   'activation':'relu', # activation function in hidden layer\n",
    "                   'weight_init':'he_normal', # weight initialization method\n",
    "                   'dropout_rate':0.5, # (1-keep_prob)\n",
    "                   'learning_rate':0.0245, \n",
    "                   'num_steps':10000,\n",
    "                   'early_stopping':True}\n",
    "\n",
    "model_a = feedforward_neuralnet(**model_a_configs)"
   ]
  },
  {
   "cell_type": "markdown",
   "metadata": {},
   "source": [
    "##### __***That's it! We have a trained a simple feed-forward neural network which can generalize into the validation set. (End Of Demo)***__"
   ]
  },
  {
   "cell_type": "code",
   "execution_count": null,
   "metadata": {},
   "outputs": [],
   "source": []
  },
  {
   "cell_type": "markdown",
   "metadata": {},
   "source": [
    "## Other Stuff We Can Do With the Trained Model"
   ]
  },
  {
   "cell_type": "markdown",
   "metadata": {},
   "source": [
    "Calling `feedforward_neuralnet()` method also returns a `model` dictionary, containing model parameters and configurations.\n",
    "\n",
    "```python\n",
    "def feedforward_neuralnet(X_train, y_train, X_test, y_test, layer_dims,\n",
    "                          activation='sigmoid', weight_init='glorot_uniform',\n",
    "                          dropout_rate=None, learning_rate=0.0495, num_steps=3000, \n",
    "                          early_stopping=True):\n",
    "    ...\n",
    "    return model\n",
    "```\n",
    "\n",
    "Here are available keys found in the `model` dictionary:"
   ]
  },
  {
   "cell_type": "code",
   "execution_count": 4,
   "metadata": {},
   "outputs": [
    {
     "data": {
      "text/plain": [
       "dict_keys(['params', 'losses', 'training_accuracy', 'validation_accuracy', 'layer_dims', 'activation', 'weight_init', 'dropout_rate', 'learning_rate', 'best_epoch'])"
      ]
     },
     "execution_count": 4,
     "metadata": {},
     "output_type": "execute_result"
    }
   ],
   "source": [
    "model_a.keys()"
   ]
  },
  {
   "cell_type": "markdown",
   "metadata": {},
   "source": [
    "The model weights are stored in `model['params']` "
   ]
  },
  {
   "cell_type": "code",
   "execution_count": 5,
   "metadata": {},
   "outputs": [
    {
     "name": "stdout",
     "output_type": "stream",
     "text": [
      "Param: b1, Weights shape: (1, 64)\n",
      "Param: W1, Weights shape: (4, 64)\n",
      "Param: b2, Weights shape: (1, 64)\n",
      "Param: W2, Weights shape: (64, 64)\n",
      "Param: b3, Weights shape: (1, 3)\n",
      "Param: W3, Weights shape: (64, 3)\n"
     ]
    }
   ],
   "source": [
    "for k, v in model_a['params'].items():\n",
    "    print('Param: {}, Weights shape: {}'.format(k, v.shape))"
   ]
  },
  {
   "cell_type": "markdown",
   "metadata": {},
   "source": [
    "If we want to make predictions after training, we can make predictions as long as we have the model in memory. This is possible by calling `model_predict()` method in `nn_utils.py`\n",
    "\n",
    "```python\n",
    "def model_predict(X, y, model):\n",
    "    ...\n",
    "    return preds, acc\n",
    "```"
   ]
  },
  {
   "cell_type": "code",
   "execution_count": 6,
   "metadata": {},
   "outputs": [
    {
     "name": "stdout",
     "output_type": "stream",
     "text": [
      "Accuracy: 1.0\n"
     ]
    },
    {
     "data": {
      "text/plain": [
       "((30,),\n",
       " 1.0,\n",
       " array([1, 1, 2, 0, 2, 0, 1, 1, 2, 2, 0, 1, 2, 2, 1, 1, 2, 0, 2, 0, 0, 1,\n",
       "        0, 2, 2, 2, 1, 0, 2, 0]),\n",
       " array([1, 1, 2, 0, 2, 0, 1, 1, 2, 2, 0, 1, 2, 2, 1, 1, 2, 0, 2, 0, 0, 1,\n",
       "        0, 2, 2, 2, 1, 0, 2, 0]))"
      ]
     },
     "execution_count": 6,
     "metadata": {},
     "output_type": "execute_result"
    }
   ],
   "source": [
    "from utils import model_predict # nn_utils.py\n",
    "\n",
    "preds, acc = model_predict(X_test, y_test, model_a)\n",
    "\n",
    "preds.shape, acc, preds, y_test"
   ]
  },
  {
   "cell_type": "markdown",
   "metadata": {},
   "source": [
    "Or you can also use `predict()` method in `nn_utils.py`\n",
    "\n",
    "```python\n",
    "def predict(X, y, params, activation):\n",
    "    ...\n",
    "    return acc\n",
    "```\n",
    "\n",
    "The former returns both prediction vector `preds` and accuracy score `acc`, while the latter only returns accuracy score `acc`"
   ]
  },
  {
   "cell_type": "code",
   "execution_count": 7,
   "metadata": {},
   "outputs": [
    {
     "data": {
      "text/plain": [
       "1.0"
      ]
     },
     "execution_count": 7,
     "metadata": {},
     "output_type": "execute_result"
    }
   ],
   "source": [
    "from utils import predict # nn_utils.py\n",
    "\n",
    "acc = predict(X_test, y_test, model_a['params'], model_a['activation'])\n",
    "\n",
    "acc"
   ]
  },
  {
   "cell_type": "markdown",
   "metadata": {},
   "source": [
    "## How to Create More Models"
   ]
  },
  {
   "cell_type": "markdown",
   "metadata": {},
   "source": [
    "To create another model and store it in memory:\n",
    "\n",
    "1. create a new model config dictionary\n",
    "2. pass the dictionary as `**kwargs` to `feedforward_neuralnet()`\n",
    "3. call the `feedforward_neuralnet()` method and assign it to a variable"
   ]
  },
  {
   "cell_type": "code",
   "execution_count": null,
   "metadata": {},
   "outputs": [],
   "source": [
    "# model configuration\n",
    "model_b_configs = {'X_train':X_train,\n",
    "                   'y_train':y_train,\n",
    "                   'X_test':X_test,\n",
    "                   'y_test':y_test,\n",
    "                   'layer_dims':[4, 14, 8, 3], # layer dimensions\n",
    "                   'activation':'relu', # activation function in hidden layer\n",
    "                   'weight_init':'glorot_uniform', # weight initialization method\n",
    "                   'dropout_rate':0.25, # (1-keep_prob)\n",
    "                   'learning_rate':0.0045, \n",
    "                   'num_steps':10000,\n",
    "                   'early_stopping':True}\n",
    "\n",
    "model_b = feedforward_neuralnet(**model_a_configs)"
   ]
  },
  {
   "cell_type": "markdown",
   "metadata": {},
   "source": [
    "## Under the Hood: How It Works"
   ]
  },
  {
   "cell_type": "markdown",
   "metadata": {},
   "source": [
    "### 0. The Crux of the Neural Network\n",
    "\n",
    "The essence of the neural network is found in `feedforward_neuralnet()` main function in `model.py`.\n",
    "\n",
    "```python\n",
    "from model import feedforward_neuralnet\n",
    "```\n",
    "\n",
    "There are 6 main steps:\n",
    "1. Model Building\n",
    "2. Forward Propagation\n",
    "3. Loss Calculation\n",
    "4. Backpropagation by Gradient Descent\n",
    "5. Parameter Updates\n",
    "6. Accuracy Calculation\n",
    "\n",
    "```python\n",
    "\n",
    "def feedforward_neuralnet(X_train, y_train, X_test, y_test, layer_dims,\n",
    "                          activation='sigmoid', weight_init='glorot_uniform',\n",
    "                          dropout_rate=None, learning_rate=0.0495, num_steps=3000, \n",
    "                          early_stopping=True):\n",
    "    ...\n",
    "    params = global_param_init(layer_dims, weight_init) # step 1\n",
    "    for i in t: # Training loop\n",
    "        probs, caches = model_forward(X_train, params, activation, dropout_rate) # step 2\n",
    "        loss = cat_xentropy_loss(probs, y_train) # step 3\n",
    "        grads = model_backward(probs, y_train, caches, activation, dropout_rate) # step 4\n",
    "        params = update_params(params, grads, learning_rate) # step 5\n",
    "        train_acc = predict(X_train, y_train, params, activation) # step 6\n",
    "        val_acc = predict(X_test, y_test, params, activation)\n",
    "    ...\n",
    "```\n",
    "\n",
    "A breakdown of the steps is as follows:"
   ]
  },
  {
   "cell_type": "markdown",
   "metadata": {},
   "source": [
    "### 1. Model Building\n",
    "\n",
    "```python\n",
    "from utils import global_param_init\n",
    "params = global_param_init(layer_dims, weight_init) # initialize weights\n",
    "```\n",
    "\n",
    "Which calls `global_param_init()` method in `nn_utils.py`\n",
    "\n",
    "```python\n",
    "def global_param_init(layer_dims, weight_init):\n",
    "    ...\n",
    "    return params\n",
    "```"
   ]
  },
  {
   "cell_type": "markdown",
   "metadata": {},
   "source": [
    "### 2. Forward Propagation\n",
    "\n",
    "```python\n",
    "from layers import model_forward\n",
    "probs, caches = model_forward(X_train, params, activation, dropout_rate) # forward propagation\n",
    "```\n",
    "\n",
    "Which calls `model_forward()` method in `layers.py`\n",
    "\n",
    "```python\n",
    "def model_forward(X, params, activation, dropout_rate=None):\n",
    "    ...\n",
    "    return probs, caches\n",
    "```"
   ]
  },
  {
   "cell_type": "markdown",
   "metadata": {},
   "source": [
    "### 3. Loss Calculation\n",
    "\n",
    "```python\n",
    "from metrics import cat_xentropy_loss\n",
    "loss = cat_xentropy_loss(probs, y_train) # calculate loss\n",
    "```\n",
    "\n",
    "Which is a categorical cross-entropy loss found in `cat_xentropy_loss()` in `metrics.py`\n",
    "\n",
    "```python\n",
    "def model_forward(X, params, activation, dropout_rate=None):\n",
    "    ...\n",
    "    return probs, caches\n",
    "```"
   ]
  },
  {
   "cell_type": "markdown",
   "metadata": {},
   "source": [
    "### 4. Backpropagation\n",
    "\n",
    "```python\n",
    "from layers import model_backward\n",
    "grads = model_backward(probs, y_train, caches, activation, dropout_rate) # step 5\n",
    "```\n",
    "\n",
    "Which calls `model_backward()` method in `layers.py`\n",
    "\n",
    "```python\n",
    "def model_backward(probs, y, caches, activation, dropout_rate=None):\n",
    "    ...\n",
    "    return grads\n",
    "```"
   ]
  },
  {
   "cell_type": "markdown",
   "metadata": {},
   "source": [
    "### 5. Weight Updates\n",
    "\n",
    "```python\n",
    "from utils import update_params\n",
    "params = update_params(params, grads, learning_rate) # step 6\n",
    "```\n",
    "\n",
    "Which calls `update_params()` method in `nn_utils.py`\n",
    "\n",
    "```python\n",
    "def update_params(params, grads, learning_rate):\n",
    "    ...\n",
    "    return params\n",
    "```"
   ]
  },
  {
   "cell_type": "markdown",
   "metadata": {},
   "source": [
    "### 6. Calculate Training and Validation Accuracy\n",
    "\n",
    "```python\n",
    "from utils import predict\n",
    "train_acc = predict(X_train, y_train, params, activation) # training accuracy\n",
    "val_acc = predict(X_test, y_test, params, activation) # testing accuracy\n",
    "```\n",
    "\n",
    "Which calls `predict()` method in `nn_utils.py`\n",
    "\n",
    "```python\n",
    "def predict(X, y, params, activation):\n",
    "    ...\n",
    "    return acc\n",
    "```\n",
    "\n",
    "That's it!"
   ]
  },
  {
   "cell_type": "markdown",
   "metadata": {},
   "source": [
    "# APPENDIX"
   ]
  },
  {
   "cell_type": "markdown",
   "metadata": {},
   "source": [
    "### Overview of other functions found in `layers.py`\n",
    "\n",
    "```python\n",
    "def dropout(A, dropout_rate):\n",
    "    \"\"\"Dropout forward propagation with dropout mask returned.\"\"\"\n",
    "    ...\n",
    "    return A, dropout_mask\n",
    "\n",
    "def dropout_backward(dA, dropout_mask, dropout_rate):\n",
    "    \"\"\"Dropout backpropagation which scales up un-dropped activation signals\"\"\"\n",
    "    ...\n",
    "    return dA * dropout_mask / (1.0 - dropout_rate)\n",
    "\n",
    "def dense_forward(A, W, b):\n",
    "    \"\"\"Dense (fully-connected) layer forward propagation.\"\"\"\n",
    "    ...\n",
    "    return Z, cache\n",
    "\n",
    "def dense_backward(dZ, cache):\n",
    "    \"\"\"Dense (fully-connected) layer backpropagation.\"\"\"\n",
    "    ...\n",
    "    return dA_prev, dW, db\n",
    "\n",
    "def layer_forward(A_prev, W, b, activation, dropout_rate=None):\n",
    "    \"\"\"Forward propagation of a dense layer with an activation function of choice.\"\"\"\n",
    "    ...\n",
    "    return A, cache\n",
    "\n",
    "def layer_backward(dA, cache, activation, dropout_rate=None):\n",
    "    \"\"\"Backpropagation of a dense layer with an activation function of choice.\"\"\"\n",
    "    ...\n",
    "    return dA_prev, dW, db\n",
    "```"
   ]
  },
  {
   "cell_type": "markdown",
   "metadata": {},
   "source": [
    "### Overview of activations in `activations.py`\n",
    "\n",
    "```python\n",
    "def sigmoid(Z):\n",
    "    \"\"\"Sigmoid forward propagation layer with cache returned.\"\"\"  \n",
    "    ...\n",
    "    return A, cache\n",
    "\n",
    "def sigmoid_backward(dA, cache):\n",
    "    \"\"\"Sigmoid backward propagation to return gradient w.r.t pre-activation matrix.\"\"\"  \n",
    "    ...\n",
    "    return dZ\n",
    "\n",
    "def relu(Z):\n",
    "    \"\"\"ReLU forward propagation layer with cache returned.\"\"\"\n",
    "    ...\n",
    "    return A, cache\n",
    "\n",
    "def relu_backward(dA, cache):\n",
    "    \"\"\"ReLU backward propagation to return gradient w.r.t pre-activation matrix.\"\"\" \n",
    "    ...\n",
    "    return dZ\n",
    "\n",
    "def softmax(Z):\n",
    "    \"\"\"Softmax forward propagation with cache returned.\"\"\"\n",
    "    ...\n",
    "    return probs, cache\n",
    "\n",
    "def softmax_backward(probs, y):\n",
    "    \"\"\"Softmax backward propagation to return gradient w.r.t pre-activation matrix.\"\"\"\n",
    "    ...\n",
    "    return probs\n",
    "```"
   ]
  },
  {
   "cell_type": "markdown",
   "metadata": {},
   "source": [
    "### Overview of loss and accuracy metrics in `metrics.py`\n",
    "\n",
    "```python\n",
    "def cat_xentropy_loss(probs, y):\n",
    "    \"\"\"Returns categorical cross-entropy loss.\"\"\"\n",
    "    return np.mean(-np.log(probs[np.arange(y.shape[0]), y]))\n",
    "\n",
    "def accuracy(preds, y):\n",
    "    \"\"\"Returns accuracy score given prediction probabilities and labels\"\"\"\n",
    "    return np.sum(preds==y) / float(len(y))\n",
    "```"
   ]
  },
  {
   "cell_type": "markdown",
   "metadata": {},
   "source": [
    "### Overview of preprocessing functions in `preprocessing.py`\n",
    "\n",
    "```python\n",
    "def standard_scaler(X):\n",
    "    \"\"\"Scale features into a unit Gaussian.\"\"\"\n",
    "    return (X-np.mean(X, axis=0))/np.std(X, axis=0)\n",
    "    \n",
    "def one_hot_encoding(v):\n",
    "    \"\"\"One-hot encoding for categorical features.\"\"\"\n",
    "    return np.eye(len(np.unique(v)))[v]\n",
    "\n",
    "def train_test_split(X, y, test_size, random_state=42):\n",
    "    \"\"\"Splits X and y into training and testing sets.\"\"\"\n",
    "    ...\n",
    "    return X_train, X_test, y_train, y_test\n",
    "\n",
    "def Kfold(X, n_splits, shuffle=False, random_state=42):\n",
    "    \"\"\"K-Fold Cross Validation in Numpy.\"\"\"\n",
    "    ...\n",
    "    yield train_fold_idx, test_fold_idx\n",
    "```"
   ]
  },
  {
   "cell_type": "markdown",
   "metadata": {},
   "source": [
    "### Overview of other utility functions found in `utils.py`\n",
    "\n",
    "```python\n",
    "def log_csv(losses, train_accs, val_accs):\n",
    "    \"\"\"Record training data into a pandas dataframe then save it as a CSV file.\"\"\"\n",
    "    ...\n",
    "    training_df.to_csv('logs.csv')\n",
    "    print('Training Logs are saved as a CSV file.')\n",
    "\n",
    "def plot(losses, val_accs, learning_rate):\n",
    "    \"\"\"Plots model loss and accuracy curves and save results as png.\"\"\"\n",
    "    ...\n",
    "    fig.savefig('results.png')\n",
    "    print('Training Curves are saved as a PNG file.')\n",
    "```"
   ]
  },
  {
   "cell_type": "code",
   "execution_count": null,
   "metadata": {},
   "outputs": [],
   "source": []
  }
 ],
 "metadata": {
  "kernelspec": {
   "display_name": "Python 3",
   "language": "python",
   "name": "python3"
  },
  "language_info": {
   "codemirror_mode": {
    "name": "ipython",
    "version": 3
   },
   "file_extension": ".py",
   "mimetype": "text/x-python",
   "name": "python",
   "nbconvert_exporter": "python",
   "pygments_lexer": "ipython3",
   "version": "3.6.5"
  }
 },
 "nbformat": 4,
 "nbformat_minor": 2
}
